{
 "cells": [
  {
   "cell_type": "code",
   "execution_count": 32,
   "metadata": {},
   "outputs": [],
   "source": [
    "%%capture\n",
    "from pandas import *\n",
    "from sklearn import *\n",
    "from matplotlib.pyplot import *\n",
    "import seaborn as sns\n",
    "# from ggplot import *\n",
    "rcParams['figure.figsize']=20,20"
   ]
  },
  {
   "cell_type": "code",
   "execution_count": 33,
   "metadata": {},
   "outputs": [],
   "source": [
    "%%capture\n",
    "ob = read_excel(\"./bazy_danych/01A Obserwacje_nowe.xlsx\")\n",
    "po = read_excel(\"./bazy_danych/01B Po osobach - nowe.xlsx\")"
   ]
  },
  {
   "cell_type": "code",
   "execution_count": 38,
   "metadata": {},
   "outputs": [],
   "source": [
    "%%capture\n",
    "wyksztalcenie_miejsceZamieszkania=sns.jointplot(po['M4a'] , po['M4'], kind='kde', shade=True )\n",
    "wyksztalcenie_miejsceZamieszkania.set_axis_labels('Wykszalcenie', 'Wielkosc miejsca zamieszkania', fontsize=10)"
   ]
  },
  {
   "cell_type": "code",
   "execution_count": null,
   "metadata": {},
   "outputs": [],
   "source": []
  }
 ],
 "metadata": {
  "kernelspec": {
   "display_name": "Python 3",
   "language": "python",
   "name": "python3"
  },
  "language_info": {
   "codemirror_mode": {
    "name": "ipython",
    "version": 3
   },
   "file_extension": ".py",
   "mimetype": "text/x-python",
   "name": "python",
   "nbconvert_exporter": "python",
   "pygments_lexer": "ipython3",
   "version": "3.6.5"
  }
 },
 "nbformat": 4,
 "nbformat_minor": 2
}
