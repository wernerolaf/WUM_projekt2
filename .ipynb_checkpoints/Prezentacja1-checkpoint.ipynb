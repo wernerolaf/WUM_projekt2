{
 "cells": [
  {
   "cell_type": "code",
   "execution_count": 48,
   "metadata": {},
   "outputs": [],
   "source": [
    "%run ./Przygotowanie_prezentacja1.ipynb"
   ]
  },
  {
   "cell_type": "markdown",
   "metadata": {},
   "source": [
    "## <center> Prezentacja 1\n",
    "# <center> Eksploracja danych"
   ]
  },
  {
   "cell_type": "markdown",
   "metadata": {},
   "source": [
    "# 1. Wprowadzenie\n",
    "\n",
    "co to są ogółem za dane?"
   ]
  },
  {
   "cell_type": "markdown",
   "metadata": {},
   "source": [
    "# 2. Zbiory danych"
   ]
  },
  {
   "cell_type": "markdown",
   "metadata": {},
   "source": [
    "## 2.1 \"Obserwacje\""
   ]
  },
  {
   "cell_type": "markdown",
   "metadata": {},
   "source": [
    "Preview:"
   ]
  },
  {
   "cell_type": "code",
   "execution_count": 37,
   "metadata": {},
   "outputs": [
    {
     "data": {
      "text/html": [
       "<div>\n",
       "<style scoped>\n",
       "    .dataframe tbody tr th:only-of-type {\n",
       "        vertical-align: middle;\n",
       "    }\n",
       "\n",
       "    .dataframe tbody tr th {\n",
       "        vertical-align: top;\n",
       "    }\n",
       "\n",
       "    .dataframe thead th {\n",
       "        text-align: right;\n",
       "    }\n",
       "</style>\n",
       "<table border=\"1\" class=\"dataframe\">\n",
       "  <thead>\n",
       "    <tr style=\"text-align: right;\">\n",
       "      <th></th>\n",
       "      <th>no</th>\n",
       "      <th>obserwator</th>\n",
       "      <th>ID</th>\n",
       "      <th>nr_wydarzenia</th>\n",
       "      <th>kategoria_wyd</th>\n",
       "      <th>Nastr_nr</th>\n",
       "      <th>R_nastroj</th>\n",
       "      <th>R_zmeczenie</th>\n",
       "      <th>D_nastroj</th>\n",
       "      <th>D_zmęczenie</th>\n",
       "      <th>...</th>\n",
       "      <th>czas_min_sec</th>\n",
       "      <th>time_s</th>\n",
       "      <th>Inne zachowania</th>\n",
       "      <th>Uwagi</th>\n",
       "      <th>Czy dalej</th>\n",
       "      <th>D_czyta</th>\n",
       "      <th>R_czyta</th>\n",
       "      <th>R_tlumaczy</th>\n",
       "      <th>animator2</th>\n",
       "      <th>R_wola_D</th>\n",
       "    </tr>\n",
       "  </thead>\n",
       "  <tbody>\n",
       "    <tr>\n",
       "      <th>0</th>\n",
       "      <td>1</td>\n",
       "      <td>4</td>\n",
       "      <td>45</td>\n",
       "      <td>1</td>\n",
       "      <td>2</td>\n",
       "      <td>0.0</td>\n",
       "      <td>8.0</td>\n",
       "      <td>1.0</td>\n",
       "      <td>9.0</td>\n",
       "      <td>1.0</td>\n",
       "      <td>...</td>\n",
       "      <td>NaN</td>\n",
       "      <td>NaN</td>\n",
       "      <td>NaN</td>\n",
       "      <td>NaN</td>\n",
       "      <td>2</td>\n",
       "      <td>NaN</td>\n",
       "      <td>NaN</td>\n",
       "      <td>NaN</td>\n",
       "      <td>NaN</td>\n",
       "      <td>NaN</td>\n",
       "    </tr>\n",
       "    <tr>\n",
       "      <th>1</th>\n",
       "      <td>2</td>\n",
       "      <td>4</td>\n",
       "      <td>45</td>\n",
       "      <td>2</td>\n",
       "      <td>1</td>\n",
       "      <td>NaN</td>\n",
       "      <td>NaN</td>\n",
       "      <td>NaN</td>\n",
       "      <td>NaN</td>\n",
       "      <td>NaN</td>\n",
       "      <td>...</td>\n",
       "      <td>00:11:20</td>\n",
       "      <td>680.0</td>\n",
       "      <td>Czytają, rozmawiają</td>\n",
       "      <td>NaN</td>\n",
       "      <td>2</td>\n",
       "      <td>1.0</td>\n",
       "      <td>1.0</td>\n",
       "      <td>0.0</td>\n",
       "      <td>0.0</td>\n",
       "      <td>0.0</td>\n",
       "    </tr>\n",
       "    <tr>\n",
       "      <th>2</th>\n",
       "      <td>3</td>\n",
       "      <td>4</td>\n",
       "      <td>45</td>\n",
       "      <td>3</td>\n",
       "      <td>3</td>\n",
       "      <td>NaN</td>\n",
       "      <td>NaN</td>\n",
       "      <td>NaN</td>\n",
       "      <td>NaN</td>\n",
       "      <td>NaN</td>\n",
       "      <td>...</td>\n",
       "      <td>00:01:50</td>\n",
       "      <td>110.0</td>\n",
       "      <td>Pobieżnie i szybko</td>\n",
       "      <td>NaN</td>\n",
       "      <td>2</td>\n",
       "      <td>NaN</td>\n",
       "      <td>NaN</td>\n",
       "      <td>NaN</td>\n",
       "      <td>NaN</td>\n",
       "      <td>NaN</td>\n",
       "    </tr>\n",
       "    <tr>\n",
       "      <th>3</th>\n",
       "      <td>4</td>\n",
       "      <td>4</td>\n",
       "      <td>45</td>\n",
       "      <td>4</td>\n",
       "      <td>1</td>\n",
       "      <td>NaN</td>\n",
       "      <td>NaN</td>\n",
       "      <td>NaN</td>\n",
       "      <td>NaN</td>\n",
       "      <td>NaN</td>\n",
       "      <td>...</td>\n",
       "      <td>00:02:25</td>\n",
       "      <td>145.0</td>\n",
       "      <td>NaN</td>\n",
       "      <td>Tata dzwoni około 1 minuty</td>\n",
       "      <td>2</td>\n",
       "      <td>0.0</td>\n",
       "      <td>0.0</td>\n",
       "      <td>0.0</td>\n",
       "      <td>0.0</td>\n",
       "      <td>0.0</td>\n",
       "    </tr>\n",
       "    <tr>\n",
       "      <th>4</th>\n",
       "      <td>5</td>\n",
       "      <td>4</td>\n",
       "      <td>45</td>\n",
       "      <td>5</td>\n",
       "      <td>1</td>\n",
       "      <td>NaN</td>\n",
       "      <td>NaN</td>\n",
       "      <td>NaN</td>\n",
       "      <td>NaN</td>\n",
       "      <td>NaN</td>\n",
       "      <td>...</td>\n",
       "      <td>00:00:15</td>\n",
       "      <td>15.0</td>\n",
       "      <td>NaN</td>\n",
       "      <td>NaN</td>\n",
       "      <td>2</td>\n",
       "      <td>0.0</td>\n",
       "      <td>0.0</td>\n",
       "      <td>0.0</td>\n",
       "      <td>0.0</td>\n",
       "      <td>0.0</td>\n",
       "    </tr>\n",
       "  </tbody>\n",
       "</table>\n",
       "<p>5 rows × 38 columns</p>\n",
       "</div>"
      ],
      "text/plain": [
       "   no  obserwator  ID  nr_wydarzenia  kategoria_wyd  Nastr_nr  R_nastroj  \\\n",
       "0   1           4  45              1              2       0.0        8.0   \n",
       "1   2           4  45              2              1       NaN        NaN   \n",
       "2   3           4  45              3              3       NaN        NaN   \n",
       "3   4           4  45              4              1       NaN        NaN   \n",
       "4   5           4  45              5              1       NaN        NaN   \n",
       "\n",
       "   R_zmeczenie  D_nastroj  D_zmęczenie    ...     czas_min_sec  time_s  \\\n",
       "0          1.0        9.0          1.0    ...              NaN     NaN   \n",
       "1          NaN        NaN          NaN    ...         00:11:20   680.0   \n",
       "2          NaN        NaN          NaN    ...         00:01:50   110.0   \n",
       "3          NaN        NaN          NaN    ...         00:02:25   145.0   \n",
       "4          NaN        NaN          NaN    ...         00:00:15    15.0   \n",
       "\n",
       "       Inne zachowania                       Uwagi  Czy dalej  D_czyta  \\\n",
       "0                  NaN                         NaN          2      NaN   \n",
       "1  Czytają, rozmawiają                         NaN          2      1.0   \n",
       "2   Pobieżnie i szybko                         NaN          2      NaN   \n",
       "3                  NaN  Tata dzwoni około 1 minuty          2      0.0   \n",
       "4                  NaN                         NaN          2      0.0   \n",
       "\n",
       "   R_czyta R_tlumaczy animator2  R_wola_D  \n",
       "0      NaN        NaN       NaN       NaN  \n",
       "1      1.0        0.0       0.0       0.0  \n",
       "2      NaN        NaN       NaN       NaN  \n",
       "3      0.0        0.0       0.0       0.0  \n",
       "4      0.0        0.0       0.0       0.0  \n",
       "\n",
       "[5 rows x 38 columns]"
      ]
     },
     "execution_count": 37,
     "metadata": {},
     "output_type": "execute_result"
    }
   ],
   "source": [
    "ob.head() # Dane są sekwencyjne!"
   ]
  },
  {
   "cell_type": "code",
   "execution_count": 17,
   "metadata": {},
   "outputs": [
    {
     "name": "stdout",
     "output_type": "stream",
     "text": [
      "<class 'pandas.core.frame.DataFrame'>\n",
      "RangeIndex: 6060 entries, 0 to 6059\n",
      "Data columns (total 38 columns):\n",
      "no                  6060 non-null int64\n",
      "obserwator          6060 non-null int64\n",
      "ID                  6060 non-null int64\n",
      "nr_wydarzenia       6060 non-null int64\n",
      "kategoria_wyd       6060 non-null int64\n",
      "Nastr_nr            576 non-null float64\n",
      "R_nastroj           572 non-null float64\n",
      "R_zmeczenie         573 non-null float64\n",
      "D_nastroj           576 non-null float64\n",
      "D_zmęczenie         574 non-null float64\n",
      "kroki_L             546 non-null float64\n",
      "kroki_P             560 non-null float64\n",
      "Nastr_kiedy         576 non-null object\n",
      "interwal_dlugosc    504 non-null object\n",
      "interwal_kroki_L    545 non-null float64\n",
      "interwal_kroki_P    561 non-null float64\n",
      "eksponat_Nr         5367 non-null float64\n",
      "Galeria             5483 non-null object\n",
      "Nazwa eksponatu     5448 non-null object\n",
      "poznawcze           5367 non-null float64\n",
      "D_woła              5280 non-null float64\n",
      "D_pyta              5280 non-null float64\n",
      "D_patrzy            5280 non-null float64\n",
      "patrzy_ktos         5280 non-null float64\n",
      "D_dotyka            5280 non-null float64\n",
      "R_dotyka            5280 non-null float64\n",
      "D_używa             5280 non-null float64\n",
      "R_używa             5280 non-null float64\n",
      "czas_min_sec        5456 non-null object\n",
      "time_s              5456 non-null float64\n",
      "Inne zachowania     1722 non-null object\n",
      "Uwagi               278 non-null object\n",
      "Czy dalej           6060 non-null int64\n",
      "D_czyta             5367 non-null float64\n",
      "R_czyta             5367 non-null float64\n",
      "R_tlumaczy          5367 non-null float64\n",
      "animator2           5367 non-null float64\n",
      "R_wola_D            5368 non-null float64\n",
      "dtypes: float64(25), int64(6), object(7)\n",
      "memory usage: 1.8+ MB\n"
     ]
    }
   ],
   "source": [
    "ob.info()"
   ]
  },
  {
   "cell_type": "markdown",
   "metadata": {},
   "source": [
    "Krótkie omówienie rozkładów:"
   ]
  },
  {
   "cell_type": "code",
   "execution_count": 30,
   "metadata": {},
   "outputs": [
    {
     "data": {
      "text/plain": [
       "<matplotlib.axes._subplots.AxesSubplot at 0x1a0ca4b31d0>"
      ]
     },
     "execution_count": 30,
     "metadata": {},
     "output_type": "execute_result"
    },
    {
     "data": {
      "image/png": "[encoded data removed]",
      "text/plain": [
       "<Figure size 1440x1440 with 1 Axes>"
      ]
     },
     "metadata": {},
     "output_type": "display_data"
    }
   ],
   "source": [
    "ob.drop(['Inne zachowania',\n",
    "         'Uwagi',\n",
    "         \"czas_min_sec\",\n",
    "         'Nastr_kiedy',\n",
    "         \"interwal_dlugosc\",\n",
    "        'Galeria',\n",
    "        'Nazwa eksponatu'], axis=1).apply(lambda x: (x - np.mean(x)) / (np.max(x) - np.min(x))).boxplot(rot=45)"
   ]
  },
  {
   "cell_type": "code",
   "execution_count": 34,
   "metadata": {
    "scrolled": true
   },
   "outputs": [
    {
     "data": {
      "text/html": [
       "<div>\n",
       "<style scoped>\n",
       "    .dataframe tbody tr th:only-of-type {\n",
       "        vertical-align: middle;\n",
       "    }\n",
       "\n",
       "    .dataframe tbody tr th {\n",
       "        vertical-align: top;\n",
       "    }\n",
       "\n",
       "    .dataframe thead th {\n",
       "        text-align: right;\n",
       "    }\n",
       "</style>\n",
       "<table border=\"1\" class=\"dataframe\">\n",
       "  <thead>\n",
       "    <tr style=\"text-align: right;\">\n",
       "      <th></th>\n",
       "      <th>Inne zachowania</th>\n",
       "      <th>Uwagi</th>\n",
       "      <th>czas_min_sec</th>\n",
       "      <th>Nastr_kiedy</th>\n",
       "      <th>interwal_dlugosc</th>\n",
       "      <th>Galeria</th>\n",
       "      <th>Nazwa eksponatu</th>\n",
       "    </tr>\n",
       "  </thead>\n",
       "  <tbody>\n",
       "    <tr>\n",
       "      <th>count</th>\n",
       "      <td>1722</td>\n",
       "      <td>278</td>\n",
       "      <td>5456</td>\n",
       "      <td>576</td>\n",
       "      <td>504</td>\n",
       "      <td>5483</td>\n",
       "      <td>5448</td>\n",
       "    </tr>\n",
       "    <tr>\n",
       "      <th>unique</th>\n",
       "      <td>521</td>\n",
       "      <td>238</td>\n",
       "      <td>477</td>\n",
       "      <td>313</td>\n",
       "      <td>34</td>\n",
       "      <td>15</td>\n",
       "      <td>387</td>\n",
       "    </tr>\n",
       "    <tr>\n",
       "      <th>top</th>\n",
       "      <td>RCZ</td>\n",
       "      <td>Dużo spacerują i oglądają</td>\n",
       "      <td>00:00:20</td>\n",
       "      <td>10:40:00</td>\n",
       "      <td>00:20:00</td>\n",
       "      <td>CZŁOWIEK I ŚRODOWISKO</td>\n",
       "      <td>mózg poradnik użytkownika</td>\n",
       "    </tr>\n",
       "    <tr>\n",
       "      <th>freq</th>\n",
       "      <td>197</td>\n",
       "      <td>6</td>\n",
       "      <td>114</td>\n",
       "      <td>9</td>\n",
       "      <td>152</td>\n",
       "      <td>1546</td>\n",
       "      <td>97</td>\n",
       "    </tr>\n",
       "  </tbody>\n",
       "</table>\n",
       "</div>"
      ],
      "text/plain": [
       "       Inne zachowania                      Uwagi czas_min_sec Nastr_kiedy  \\\n",
       "count             1722                        278         5456         576   \n",
       "unique             521                        238          477         313   \n",
       "top                RCZ  Dużo spacerują i oglądają     00:00:20    10:40:00   \n",
       "freq               197                          6          114           9   \n",
       "\n",
       "       interwal_dlugosc                Galeria            Nazwa eksponatu  \n",
       "count               504                   5483                       5448  \n",
       "unique               34                     15                        387  \n",
       "top            00:20:00  CZŁOWIEK I ŚRODOWISKO  mózg poradnik użytkownika  \n",
       "freq                152                   1546                         97  "
      ]
     },
     "execution_count": 34,
     "metadata": {},
     "output_type": "execute_result"
    }
   ],
   "source": [
    "ob[['Inne zachowania',\n",
    "     'Uwagi',\n",
    "     'czas_min_sec',\n",
    "     'Nastr_kiedy',\n",
    "     \"interwal_dlugosc\",\n",
    "    'Galeria',\n",
    "    'Nazwa eksponatu']].describe()"
   ]
  },
  {
   "cell_type": "markdown",
   "metadata": {},
   "source": [
    "Cechy:\n",
    "\n",
    "- d\n",
    "\n",
    "- d\n",
    "\n",
    "- d\n",
    "\n",
    "- d\n",
    "\n",
    "- d\n"
   ]
  },
  {
   "cell_type": "markdown",
   "metadata": {},
   "source": [
    "## 2.2 \"Po osobach\""
   ]
  },
  {
   "cell_type": "markdown",
   "metadata": {},
   "source": [
    "Preview:"
   ]
  },
  {
   "cell_type": "code",
   "execution_count": 38,
   "metadata": {
    "scrolled": false
   },
   "outputs": [
    {
     "data": {
      "text/html": [
       "<div>\n",
       "<style scoped>\n",
       "    .dataframe tbody tr th:only-of-type {\n",
       "        vertical-align: middle;\n",
       "    }\n",
       "\n",
       "    .dataframe tbody tr th {\n",
       "        vertical-align: top;\n",
       "    }\n",
       "\n",
       "    .dataframe thead th {\n",
       "        text-align: right;\n",
       "    }\n",
       "</style>\n",
       "<table border=\"1\" class=\"dataframe\">\n",
       "  <thead>\n",
       "    <tr style=\"text-align: right;\">\n",
       "      <th></th>\n",
       "      <th>No</th>\n",
       "      <th>Nr</th>\n",
       "      <th>obserwator</th>\n",
       "      <th>DATA</th>\n",
       "      <th>P1</th>\n",
       "      <th>P1.1</th>\n",
       "      <th>P2</th>\n",
       "      <th>P2_chca_zobaczyc</th>\n",
       "      <th>P3_1</th>\n",
       "      <th>P3_2</th>\n",
       "      <th>...</th>\n",
       "      <th>SPR_46</th>\n",
       "      <th>SPR_47</th>\n",
       "      <th>SPR_48</th>\n",
       "      <th>SPR_49</th>\n",
       "      <th>SPR_50</th>\n",
       "      <th>SPR_AKC_ODRZ</th>\n",
       "      <th>SPR_AUTONOMIA</th>\n",
       "      <th>SPR_OCHR</th>\n",
       "      <th>SPR_WYMAG</th>\n",
       "      <th>SPR_NIEKONS</th>\n",
       "    </tr>\n",
       "  </thead>\n",
       "  <tbody>\n",
       "    <tr>\n",
       "      <th>0</th>\n",
       "      <td>1</td>\n",
       "      <td>1</td>\n",
       "      <td>11</td>\n",
       "      <td>05.01.2016</td>\n",
       "      <td>5</td>\n",
       "      <td>12.0</td>\n",
       "      <td>1</td>\n",
       "      <td>NaN</td>\n",
       "      <td>5</td>\n",
       "      <td>7</td>\n",
       "      <td>...</td>\n",
       "      <td>5.0</td>\n",
       "      <td>4.0</td>\n",
       "      <td>5.0</td>\n",
       "      <td>2.0</td>\n",
       "      <td>2.0</td>\n",
       "      <td>50.0</td>\n",
       "      <td>45.0</td>\n",
       "      <td>25.0</td>\n",
       "      <td>22.0</td>\n",
       "      <td>24.0</td>\n",
       "    </tr>\n",
       "    <tr>\n",
       "      <th>1</th>\n",
       "      <td>2</td>\n",
       "      <td>2</td>\n",
       "      <td>11</td>\n",
       "      <td>05.01.2016</td>\n",
       "      <td>3</td>\n",
       "      <td>16.0</td>\n",
       "      <td>2</td>\n",
       "      <td>Harfę, teatr robotyczny</td>\n",
       "      <td>7</td>\n",
       "      <td>7</td>\n",
       "      <td>...</td>\n",
       "      <td>5.0</td>\n",
       "      <td>1.0</td>\n",
       "      <td>5.0</td>\n",
       "      <td>1.0</td>\n",
       "      <td>1.0</td>\n",
       "      <td>48.0</td>\n",
       "      <td>49.0</td>\n",
       "      <td>18.0</td>\n",
       "      <td>17.0</td>\n",
       "      <td>18.0</td>\n",
       "    </tr>\n",
       "    <tr>\n",
       "      <th>2</th>\n",
       "      <td>3</td>\n",
       "      <td>3</td>\n",
       "      <td>14</td>\n",
       "      <td>5.01.2016</td>\n",
       "      <td>2</td>\n",
       "      <td>12.0</td>\n",
       "      <td>2</td>\n",
       "      <td>Harfę bez strun (Laserowa Harfa)</td>\n",
       "      <td>7</td>\n",
       "      <td>6</td>\n",
       "      <td>...</td>\n",
       "      <td>5.0</td>\n",
       "      <td>3.0</td>\n",
       "      <td>5.0</td>\n",
       "      <td>3.0</td>\n",
       "      <td>4.0</td>\n",
       "      <td>45.0</td>\n",
       "      <td>39.0</td>\n",
       "      <td>37.0</td>\n",
       "      <td>26.0</td>\n",
       "      <td>24.0</td>\n",
       "    </tr>\n",
       "    <tr>\n",
       "      <th>3</th>\n",
       "      <td>4</td>\n",
       "      <td>4</td>\n",
       "      <td>14</td>\n",
       "      <td>5.01.2016</td>\n",
       "      <td>2</td>\n",
       "      <td>36.0</td>\n",
       "      <td>1</td>\n",
       "      <td>NaN</td>\n",
       "      <td>5</td>\n",
       "      <td>7</td>\n",
       "      <td>...</td>\n",
       "      <td>4.0</td>\n",
       "      <td>3.0</td>\n",
       "      <td>5.0</td>\n",
       "      <td>1.0</td>\n",
       "      <td>1.0</td>\n",
       "      <td>40.0</td>\n",
       "      <td>45.0</td>\n",
       "      <td>19.0</td>\n",
       "      <td>30.0</td>\n",
       "      <td>28.0</td>\n",
       "    </tr>\n",
       "    <tr>\n",
       "      <th>4</th>\n",
       "      <td>5</td>\n",
       "      <td>5</td>\n",
       "      <td>12</td>\n",
       "      <td>05.01.2016</td>\n",
       "      <td>1</td>\n",
       "      <td>NaN</td>\n",
       "      <td>2</td>\n",
       "      <td>Roboty, majsternia, pryzmaty, prąd</td>\n",
       "      <td>7</td>\n",
       "      <td>7</td>\n",
       "      <td>...</td>\n",
       "      <td>5.0</td>\n",
       "      <td>2.0</td>\n",
       "      <td>5.0</td>\n",
       "      <td>1.0</td>\n",
       "      <td>2.0</td>\n",
       "      <td>49.0</td>\n",
       "      <td>41.0</td>\n",
       "      <td>27.0</td>\n",
       "      <td>27.0</td>\n",
       "      <td>11.0</td>\n",
       "    </tr>\n",
       "  </tbody>\n",
       "</table>\n",
       "<p>5 rows × 167 columns</p>\n",
       "</div>"
      ],
      "text/plain": [
       "   No  Nr  obserwator        DATA  P1  P1.1  P2  \\\n",
       "0   1   1          11  05.01.2016   5  12.0   1   \n",
       "1   2   2          11  05.01.2016   3  16.0   2   \n",
       "2   3   3          14   5.01.2016   2  12.0   2   \n",
       "3   4   4          14   5.01.2016   2  36.0   1   \n",
       "4   5   5          12  05.01.2016   1   NaN   2   \n",
       "\n",
       "                     P2_chca_zobaczyc  P3_1  P3_2     ...       SPR_46  \\\n",
       "0                                 NaN     5     7     ...          5.0   \n",
       "1             Harfę, teatr robotyczny     7     7     ...          5.0   \n",
       "2    Harfę bez strun (Laserowa Harfa)     7     6     ...          5.0   \n",
       "3                                 NaN     5     7     ...          4.0   \n",
       "4  Roboty, majsternia, pryzmaty, prąd     7     7     ...          5.0   \n",
       "\n",
       "   SPR_47  SPR_48  SPR_49  SPR_50  SPR_AKC_ODRZ  SPR_AUTONOMIA  SPR_OCHR  \\\n",
       "0     4.0     5.0     2.0     2.0          50.0           45.0      25.0   \n",
       "1     1.0     5.0     1.0     1.0          48.0           49.0      18.0   \n",
       "2     3.0     5.0     3.0     4.0          45.0           39.0      37.0   \n",
       "3     3.0     5.0     1.0     1.0          40.0           45.0      19.0   \n",
       "4     2.0     5.0     1.0     2.0          49.0           41.0      27.0   \n",
       "\n",
       "   SPR_WYMAG  SPR_NIEKONS  \n",
       "0       22.0         24.0  \n",
       "1       17.0         18.0  \n",
       "2       26.0         24.0  \n",
       "3       30.0         28.0  \n",
       "4       27.0         11.0  \n",
       "\n",
       "[5 rows x 167 columns]"
      ]
     },
     "execution_count": 38,
     "metadata": {},
     "output_type": "execute_result"
    }
   ],
   "source": [
    "po.head()"
   ]
  },
  {
   "cell_type": "code",
   "execution_count": 35,
   "metadata": {},
   "outputs": [
    {
     "name": "stdout",
     "output_type": "stream",
     "text": [
      "<class 'pandas.core.frame.DataFrame'>\n",
      "RangeIndex: 69 entries, 0 to 68\n",
      "Columns: 167 entries, No to SPR_NIEKONS\n",
      "dtypes: float64(67), int64(85), object(15)\n",
      "memory usage: 90.1+ KB\n"
     ]
    }
   ],
   "source": [
    "po.info()"
   ]
  },
  {
   "cell_type": "markdown",
   "metadata": {},
   "source": [
    "Cechy:\n",
    "\n",
    "-  d\n",
    "\n",
    "- d\n",
    "\n",
    "- d\n",
    "\n",
    "- d\n",
    "\n",
    "- d\n"
   ]
  },
  {
   "cell_type": "markdown",
   "metadata": {},
   "source": [
    "# 3. Sumaryzacja - nasze pomysły"
   ]
  },
  {
   "cell_type": "markdown",
   "metadata": {},
   "source": [
    "Tu wpisujemy nasze pomysły:\n",
    "\n",
    "- pomysł 1"
   ]
  },
  {
   "cell_type": "markdown",
   "metadata": {},
   "source": [
    "# 4. Krótka charakterystyka datasetu"
   ]
  },
  {
   "cell_type": "markdown",
   "metadata": {},
   "source": [
    "## 4.1 Demografia"
   ]
  },
  {
   "cell_type": "code",
   "execution_count": 49,
   "metadata": {},
   "outputs": [
    {
     "data": {
      "image/png": "[encoded data removed]",
      "text/plain": [
       "<Figure size 432x432 with 3 Axes>"
      ]
     },
     "execution_count": 49,
     "metadata": {},
     "output_type": "execute_result"
    }
   ],
   "source": [
    "wyksztalcenie_miejsceZamieszkania.fig"
   ]
  },
  {
   "cell_type": "markdown",
   "metadata": {},
   "source": [
    "## 4.2 Inne"
   ]
  },
  {
   "cell_type": "code",
   "execution_count": null,
   "metadata": {},
   "outputs": [],
   "source": []
  }
 ],
 "metadata": {
  "kernelspec": {
   "display_name": "Python 3",
   "language": "python",
   "name": "python3"
  },
  "language_info": {
   "codemirror_mode": {
    "name": "ipython",
    "version": 3
   },
   "file_extension": ".py",
   "mimetype": "text/x-python",
   "name": "python",
   "nbconvert_exporter": "python",
   "pygments_lexer": "ipython3",
   "version": "3.6.5"
  }
 },
 "nbformat": 4,
 "nbformat_minor": 2
}
